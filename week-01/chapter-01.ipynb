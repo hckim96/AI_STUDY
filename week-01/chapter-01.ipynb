{
 "metadata": {
  "language_info": {
   "codemirror_mode": {
    "name": "ipython",
    "version": 3
   },
   "file_extension": ".py",
   "mimetype": "text/x-python",
   "name": "python",
   "nbconvert_exporter": "python",
   "pygments_lexer": "ipython3",
   "version": "3.8.5-final"
  },
  "orig_nbformat": 2,
  "kernelspec": {
   "name": "Python 3.8.5 64-bit ('dataStudy': conda)",
   "display_name": "Python 3.8.5 64-bit ('dataStudy': conda)",
   "metadata": {
    "interpreter": {
     "hash": "a22da94b6d0eb1bb9e13ff23c6dec5d5d0682dd7591db237e737d29eb0bbf2ae"
    }
   }
  }
 },
 "nbformat": 4,
 "nbformat_minor": 2,
 "cells": [
  {
   "source": [
    "# CHAPTER 01. 파이썬 기반의 머신러닝과 생태계 이해\n",
    "\n",
    "## 01. 머신러닝의 개념\n",
    "\n",
    "데이터를 기반으로 패턴을 학습하고 결과를 예측하는 알고리즘 기법\n",
    "\n",
    "- 머신러닝을 활용하여 해결할 수 있는 문제점\n",
    "    - 변화하는 외부 조건에 맞춰서 수시로 코드를 변경해줘야 함.\n",
    "    - 데이터를 관통하는 일정한 패턴, 조건을 찾기 어려움.\n",
    "\n",
    "- 학습법\n",
    "    1. 지도학습\n",
    "        - 정답이 있는 데이터를 학습. (데이터 라벨링)\n",
    "        - ex. 이 사진은 고양이 사진, 이 사진은 강아지 사진\n",
    "        - 라벨링을 사람이 해야되서 시간과 비용이 많이 든다.\n",
    "    2. 비지도학습\n",
    "        - 라벨링을 하지 않은 사진들을 군집화\n",
    "        - ex. 고양이 사진, 강아지 사진을, 병아리 사진을 다리의 개수를 feature 로 찾아 다리 2개, 다리 4개인 동물의 사진들로 군집화\n",
    "        - 지도학습에서의 feature 를 찾기위한 전처리과정으로 사용하기도 한다.\n",
    "    3. 강화학습\n",
    "        - 어떤 행동을 했을 때의 reward를 지정하여 학습. reward 가 최대인 행동을 하도록 한다.\n",
    "        \n",
    "## 03. 넘파이\n",
    "\n",
    "데이터 핸들링에서 판다스보다 불편하지만 많은 알고리즘이 넘파이 기반으로 작성되어 있어 다른 데이터 핸들링 패키지(ex. pandas) 를 이해하는 기반을 다지기 좋다.\n",
    "\n",
    "### ndarray\n",
    "\n",
    "\n"
   ],
   "cell_type": "markdown",
   "metadata": {}
  },
  {
   "cell_type": "code",
   "execution_count": 7,
   "metadata": {
    "tags": []
   },
   "outputs": [
    {
     "output_type": "stream",
     "name": "stdout",
     "text": "<class 'numpy.ndarray'>\n(3,)\n<class 'numpy.ndarray'>\n(2, 1)\n<class 'numpy.ndarray'>\n(3, 2, 1)\n"
    }
   ],
   "source": [
    "import numpy as np\n",
    "arr = np.array([1, 2, 3])\n",
    "print(type(arr))\n",
    "print(arr.shape)\n",
    "\n",
    "arr = np.array([[1],[2]])\n",
    "print(type(arr))\n",
    "print(arr.shape)\n",
    "\n",
    "arr = np.array([[[1], [2]], [[3], [4]], [[5],[6]]])\n",
    "print(type(arr))\n",
    "print(arr.shape)\n",
    "# shape : (x, y)  --> 원소 개수 y 개인 배열이 x 개 있는 배열."
   ]
  },
  {
   "source": [
    "ndarray 안의 데이터 타입은 한 종류이다.\n",
    "\n",
    "다른 타입의 데이터로 ndarray 를 만들면 크기가 가장 큰 데이터 타입으로 캐스팅된다.\n",
    "\n"
   ],
   "cell_type": "markdown",
   "metadata": {}
  },
  {
   "cell_type": "code",
   "execution_count": 9,
   "metadata": {
    "tags": []
   },
   "outputs": [
    {
     "output_type": "stream",
     "name": "stdout",
     "text": "[1.  2.  3.2] float64\n['1' '2'] <U1\n['1' 'abdc'] <U4\n"
    }
   ],
   "source": [
    "arr = np.array([1, 2, 3.2])\n",
    "print(arr, arr.dtype)\n",
    "\n",
    "arr = np.array(['1','2'])\n",
    "print(arr, arr.dtype)\n",
    "\n",
    "arr = np.array(['1', 'abdc'])\n",
    "print(arr, arr.dtype)"
   ]
  },
  {
   "source": [
    "asypte() method로 ndarray 내 데이터 타입을 변환 할 수 있다.\n",
    "\n",
    "기존 데이터 타입보다 작은 데이터 타입으로 변환할 경우 데이터 손실이 일어날 수 있다. (ex. float -> int :: 소수점 이하 사라짐)\n"
   ],
   "cell_type": "markdown",
   "metadata": {}
  },
  {
   "cell_type": "code",
   "execution_count": 12,
   "metadata": {
    "tags": []
   },
   "outputs": [
    {
     "output_type": "stream",
     "name": "stdout",
     "text": "[1.5 2.3] float64\n[1 2] int32\n[1. 2.] float64\n"
    }
   ],
   "source": [
    "arr = np.array([1.5, 2.3])\n",
    "print(arr, arr.dtype)\n",
    "\n",
    "arr = arr.astype('int32')\n",
    "print(arr, arr.dtype)\n",
    "\n",
    "arr = arr.astype('float64')\n",
    "print(arr, arr.dtype)\n",
    "# .5 .3 사라짐"
   ]
  },
  {
   "source": [
    "method arange, zeros, ones 로 초기화 가능\n"
   ],
   "cell_type": "markdown",
   "metadata": {}
  },
  {
   "cell_type": "code",
   "execution_count": 15,
   "metadata": {
    "tags": []
   },
   "outputs": [
    {
     "output_type": "stream",
     "name": "stdout",
     "text": "[0 1 2 3 4 5 6 7 8 9] int64\n[[0. 0.]\n [0. 0.]\n [0. 0.]] float64\n[[1. 1.]\n [1. 1.]\n [1. 1.]] float64\n"
    }
   ],
   "source": [
    "arr = np.arange(10)\n",
    "# 파라미터: 범위 start, stop 지정 가능\n",
    "print(arr, arr.dtype)\n",
    "\n",
    "arr = np.zeros((3, 2)) \n",
    "# 파라미터: 만들 ndarray 의 shape 과 dtype(default = float64)\n",
    "print(arr, arr.dtype)\n",
    "\n",
    "arr = np.ones((3,2))\n",
    "# 파라미터: 만들 ndarray 의 shape, dtype (default = float64)\n",
    "print(arr, arr.dtype)\n",
    "\n"
   ]
  },
  {
   "source": [
    "reshape() method 로 ndarray shape 바꾸기 가능 (변경 불가능 하면 오류)\n",
    "\n",
    "-1 하면 변환 가능한 모양으로 찾아서 변환해준다.\n",
    "\n",
    "tolist() 를 사용하면 ndarray 를 list 로 변환 해주는데 \n",
    "\n",
    "print 함수가 list 출력하는게 사람이 보기 편하다. (ndarray는 행 마다 라인피드)\n"
   ],
   "cell_type": "markdown",
   "metadata": {}
  },
  {
   "cell_type": "code",
   "execution_count": 20,
   "metadata": {
    "tags": []
   },
   "outputs": [
    {
     "output_type": "stream",
     "name": "stdout",
     "text": "[0 1 2 3 4 5 6 7 8 9]\n[[0 1 2 3 4]\n [5 6 7 8 9]]\n[[0, 1, 2, 3, 4], [5, 6, 7, 8, 9]]\n[[0, 1, 2, 3, 4], [5, 6, 7, 8, 9]]\n[[0, 1], [2, 3], [4, 5], [6, 7], [8, 9]]\n[[0, 1], [2, 3], [4, 5], [6, 7], [8, 9]]\n"
    }
   ],
   "source": [
    "arr = np.arange(10)\n",
    "print(arr)\n",
    "\n",
    "print(arr.reshape(2,5))\n",
    "print(arr.reshape(2,5).tolist())\n",
    "print(arr.reshape(-1,5).tolist())\n",
    "\n",
    "print(arr.reshape(5,2).tolist())\n",
    "print(arr.reshape(5,-1).tolist())"
   ]
  },
  {
   "cell_type": "code",
   "execution_count": null,
   "metadata": {},
   "outputs": [],
   "source": []
  }
 ]
}