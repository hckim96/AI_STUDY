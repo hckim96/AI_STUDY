{
 "metadata": {
  "language_info": {
   "codemirror_mode": {
    "name": "ipython",
    "version": 3
   },
   "file_extension": ".py",
   "mimetype": "text/x-python",
   "name": "python",
   "nbconvert_exporter": "python",
   "pygments_lexer": "ipython3",
   "version": "3.8.2-final"
  },
  "orig_nbformat": 2,
  "kernelspec": {
   "name": "Python 3.8.2 64-bit ('dataStudy': conda)",
   "display_name": "Python 3.8.2 64-bit ('dataStudy': conda)",
   "metadata": {
    "interpreter": {
     "hash": "a22da94b6d0eb1bb9e13ff23c6dec5d5d0682dd7591db237e737d29eb0bbf2ae"
    }
   }
  }
 },
 "nbformat": 4,
 "nbformat_minor": 2,
 "cells": [
  {
   "source": [
    "## 10. 스태킹 앙상블\n",
    "\n"
   ],
   "cell_type": "markdown",
   "metadata": {}
  },
  {
   "cell_type": "code",
   "execution_count": 1,
   "metadata": {},
   "outputs": [
    {
     "output_type": "stream",
     "name": "stdout",
     "text": [
      "knn: 0.9210526315789473\nrf: 0.9649122807017544\ndt: 0.9122807017543859\nada: 0.956140350877193\n"
     ]
    }
   ],
   "source": [
    "import numpy as np\n",
    "from sklearn.neighbors import KNeighborsClassifier\n",
    "from sklearn.ensemble import RandomForestClassifier\n",
    "from sklearn.ensemble import AdaBoostClassifier\n",
    "from sklearn.tree import DecisionTreeClassifier\n",
    "from sklearn.linear_model import LogisticRegression\n",
    "from sklearn.datasets import load_breast_cancer\n",
    "from sklearn.model_selection import train_test_split\n",
    "from sklearn.metrics import accuracy_score\n",
    "\n",
    "cancer_data = load_breast_cancer()\n",
    "\n",
    "X_data = cancer_data.data\n",
    "y_label = cancer_data.target\n",
    "\n",
    "X_train, X_test, y_train, y_test = train_test_split(X_data, y_label, test_size = 0.2, random_state = 0)\n",
    "\n",
    "# 개별모델\n",
    "knn_clf = KNeighborsClassifier(n_neighbors= 4)\n",
    "rf_clf = RandomForestClassifier(n_estimators = 100, random_state = 0)\n",
    "dt_clf = DecisionTreeClassifier()\n",
    "ada_clf = AdaBoostClassifier(n_estimators = 100)\n",
    "\n",
    "lr_final = LogisticRegression(C = 10) # 예측을 학습 할 최종 모델\n",
    "\n",
    "knn_clf.fit(X_train, y_train)\n",
    "rf_clf.fit(X_train, y_train)\n",
    "dt_clf.fit(X_train, y_train)\n",
    "ada_clf.fit(X_train, y_train)\n",
    "\n",
    "knn_pred = knn_clf.predict(X_test)\n",
    "rf_pred = rf_clf.predict(X_test)\n",
    "dt_pred = dt_clf.predict(X_test)\n",
    "ada_pred = ada_clf.predict(X_test)\n",
    "\n",
    "print(\"knn:\", accuracy_score(y_test, knn_pred))\n",
    "print(\"rf:\", accuracy_score(y_test, rf_pred))\n",
    "print(\"dt:\", accuracy_score(y_test, dt_pred))\n",
    "print(\"ada:\", accuracy_score(y_test, ada_pred))\n"
   ]
  },
  {
   "cell_type": "code",
   "execution_count": 2,
   "metadata": {},
   "outputs": [
    {
     "output_type": "stream",
     "name": "stdout",
     "text": [
      "(4, 114)\n(114, 4)\n"
     ]
    }
   ],
   "source": [
    "pred = np.array([knn_pred, rf_pred, dt_pred, ada_pred])\n",
    "print(pred.shape)\n",
    "\n",
    "pred = np.transpose(pred)\n",
    "print(pred.shape)\n"
   ]
  },
  {
   "cell_type": "code",
   "execution_count": 3,
   "metadata": {},
   "outputs": [
    {
     "output_type": "stream",
     "name": "stdout",
     "text": [
      "final: 0.9649122807017544\n"
     ]
    }
   ],
   "source": [
    "lr_final.fit(pred, y_test)\n",
    "final = lr_final.predict(pred)\n",
    "\n",
    "print(\"final:\", accuracy_score(y_test, final))"
   ]
  },
  {
   "source": [
    "### CV 세트 기반의 스태킹\n",
    "- 학습용 스태킹 데이터, 테스트용 스태킹 데이터 만들기\n"
   ],
   "cell_type": "markdown",
   "metadata": {}
  },
  {
   "cell_type": "code",
   "execution_count": 4,
   "metadata": {},
   "outputs": [
    {
     "output_type": "stream",
     "name": "stdout",
     "text": [
      "KNeighborsClassifier  model 시작\n",
      "\t fold set:  0  start\n",
      "\t fold set:  1  start\n",
      "\t fold set:  2  start\n",
      "\t fold set:  3  start\n",
      "\t fold set:  4  start\n",
      "\t fold set:  5  start\n",
      "\t fold set:  6  start\n",
      "RandomForestClassifier  model 시작\n",
      "\t fold set:  0  start\n",
      "\t fold set:  1  start\n",
      "\t fold set:  2  start\n",
      "\t fold set:  3  start\n",
      "\t fold set:  4  start\n",
      "\t fold set:  5  start\n",
      "\t fold set:  6  start\n",
      "DecisionTreeClassifier  model 시작\n",
      "\t fold set:  0  start\n",
      "\t fold set:  1  start\n",
      "\t fold set:  2  start\n",
      "\t fold set:  3  start\n",
      "\t fold set:  4  start\n",
      "\t fold set:  5  start\n",
      "\t fold set:  6  start\n",
      "AdaBoostClassifier  model 시작\n",
      "\t fold set:  0  start\n",
      "\t fold set:  1  start\n",
      "\t fold set:  2  start\n",
      "\t fold set:  3  start\n",
      "\t fold set:  4  start\n",
      "\t fold set:  5  start\n",
      "\t fold set:  6  start\n",
      "원본 학습 피처 데이터 shape:  (455, 30) 원본 테스트 피처 shape:  (114, 30)\n",
      "스태킹 학습 피처 shape:  (455, 4) 스태킹 테스트 피처 shape:  (114, 4)\n"
     ]
    }
   ],
   "source": [
    "from sklearn.model_selection import KFold\n",
    "from sklearn.metrics import mean_absolute_error\n",
    "\n",
    "def get_stacking_base_datasets(model, X_train_n, y_train_n, X_test_n, n_folds_):\n",
    "    kf = KFold(n_splits = n_folds_, shuffle = False, random_state = 0)\n",
    "\n",
    "    train_fold_pred = np.zeros((X_train_n.shape[0], 1))\n",
    "    test_pred = np.zeros((X_test_n.shape[0], n_folds_))\n",
    "    print(model.__class__.__name__, \" model 시작\")\n",
    "\n",
    "    for folder_counter, (train_index, valid_index) in enumerate(kf.split(X_train_n)):\n",
    "        print(\"\\t fold set: \", folder_counter, \" start\")\n",
    "        X_tr = X_train_n[train_index]\n",
    "        y_tr = y_train_n[train_index]\n",
    "        X_te = X_train[valid_index]\n",
    "\n",
    "        model.fit(X_tr, y_tr)\n",
    "        train_fold_pred[valid_index, :] = model.predict(X_te).reshape(-1, 1)\n",
    "        test_pred[:, folder_counter] = model.predict(X_test_n)\n",
    "    \n",
    "    test_pred_mean = np.mean(test_pred, axis = 1).reshape(-1, 1)\n",
    "    return train_fold_pred, test_pred_mean\n",
    "\n",
    "knn_train, knn_test = get_stacking_base_datasets(knn_clf, X_train, y_train, X_test, 7)\n",
    "rf_train, rf_test = get_stacking_base_datasets(rf_clf, X_train, y_train, X_test, 7)\n",
    "dt_train, dt_test = get_stacking_base_datasets(dt_clf, X_train, y_train, X_test, 7)\n",
    "ada_train, ada_test = get_stacking_base_datasets(ada_clf, X_train, y_train, X_test, 7)\n",
    "\n",
    "Stack_final_X_train = np.concatenate([knn_train, rf_train, dt_train, ada_train], axis = 1)\n",
    "Stack_final_X_test = np.concatenate([knn_test, rf_test, dt_test, ada_test], axis = 1)\n",
    "\n",
    "print(\"원본 학습 피처 데이터 shape: \", X_train.shape, \"원본 테스트 피처 shape: \", X_test.shape)\n",
    "print(\"스태킹 학습 피처 shape: \", Stack_final_X_train.shape, \"스태킹 테스트 피처 shape: \", Stack_final_X_test.shape)\n"
   ]
  },
  {
   "cell_type": "code",
   "execution_count": 5,
   "metadata": {},
   "outputs": [
    {
     "output_type": "stream",
     "name": "stdout",
     "text": [
      "accuracy:  0.9736842105263158\n"
     ]
    }
   ],
   "source": [
    "lr_final.fit(Stack_final_X_train, y_train)\n",
    "stack_final = lr_final.predict(Stack_final_X_test)\n",
    "print(\"accuracy: \", accuracy_score(y_test, stack_final)) "
   ]
  }
 ]
}