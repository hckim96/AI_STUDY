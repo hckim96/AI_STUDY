{
 "metadata": {
  "language_info": {
   "codemirror_mode": {
    "name": "ipython",
    "version": 3
   },
   "file_extension": ".py",
   "mimetype": "text/x-python",
   "name": "python",
   "nbconvert_exporter": "python",
   "pygments_lexer": "ipython3",
   "version": 3
  },
  "orig_nbformat": 2
 },
 "nbformat": 4,
 "nbformat_minor": 2,
 "cells": [
  {
   "source": [
    "## 결정 트리(Decision Tree)\n",
    "\n",
    "- 정보의 균일도(지니 계수)를 기준으로 규칙 노드를 만들어서 데이터를 분류한다.\n",
    "\n",
    "### 지니 계수로 각 노드를 분할할 규칙을 찾음\n",
    "\n",
    "- 한 데이터셋을 어떤 값을 기준으로 두 부분으로 나눴을 때, 각 부분의 지니계수에 각 부분의 데이터 비율을 곱한 값이 낮아지는 방향으로 규칙 노드를 결정. [참고](https://leedakyeong.tistory.com/entry/%EC%9D%98%EC%82%AC%EA%B2%B0%EC%A0%95%EB%82%98%EB%AC%B4Decision-Tree-CART-%EC%95%8C%EA%B3%A0%EB%A6%AC%EC%A6%98-%EC%A7%80%EB%8B%88%EA%B3%84%EC%88%98Gini-Index%EB%9E%80)\n",
    "\n",
    "### 장점과 단점\n",
    "- 장점\n",
    "    - 결정트리를 만드는 규칙이 단순해서 직관적이며 이해하기 쉽다.\n",
    "    - 규칙노드를 결정할 때 각 피처가 개별적으로 처리되므로 스케일링이나 정규화같은 전처리 과정이 일반적으로 필요없다.\n",
    "    - 결정 트리를 시각화할 수 있어 이해하기 쉽다.\n",
    "    \n",
    "- 단점\n",
    "    - 피처가 많은 데이터 셋에서 과적합이 쉽게 일어날 수 있다.\n",
    "\n",
    "### 사용 팁\n",
    "\n",
    "- 피처가 많은(high dimension) 데이터 셋을 dimension reduction(ex. PCA, ICA, Feature Selection) 하면 규칙노드를 좀 더 잘 찾을 수 있다.\n",
    "- 미리 트리 파라미터에 제한을 둬서 과적합을 막는 게 좋다. (max_depth, min_samples_split, ...)\n"
   ],
   "cell_type": "markdown",
   "metadata": {}
  },
  {
   "source": [
    "## 랜덤 포레스트\n",
    "\n",
    "- 배깅의 일종(bagging(bootstrap aggregating))\n",
    "- 전체 데이터 셋을 부트 스트래핑 분할 방식으로 분할하여 각각을 결정트리모델로 학습 예측한 결과를 보팅해서 최종적으로 예측한다.\n",
    "\n",
    "\n",
    "### 장점과 단점\n",
    "\n",
    "- 장점\n",
    "    - 보팅 방식으로 결정 트리에서의 과적합 문제를 해결할 수 있다.\n",
    "    - 트리 기반의 앙상블 알고리즘중에서는 비교적 파라미터가 적어서 파라미터 튜닝에 드는 시간이 적다. (대부분 결정트리의 파라미터와 같음)\n",
    "    - cpu 병렬 처리가 효과적이라 빠른 학습이 가능\n",
    "    - 결정트리에서와 같이 feature\\_importances\\_ 속성을 시각화 가능\n",
    "- 단점\n",
    "    - 메모리 사용량 많은 트리를 여러개 만들어서 메모리 사용량이 크다.\n",
    "    "
   ],
   "cell_type": "markdown",
   "metadata": {}
  }
 ]
}