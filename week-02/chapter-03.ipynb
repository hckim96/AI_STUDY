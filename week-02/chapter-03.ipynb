{
 "metadata": {
  "language_info": {
   "codemirror_mode": {
    "name": "ipython",
    "version": 3
   },
   "file_extension": ".py",
   "mimetype": "text/x-python",
   "name": "python",
   "nbconvert_exporter": "python",
   "pygments_lexer": "ipython3",
   "version": "3.8.5-final"
  },
  "orig_nbformat": 2,
  "kernelspec": {
   "name": "Python 3.8.5 64-bit ('dataStudy': conda)",
   "display_name": "Python 3.8.5 64-bit ('dataStudy': conda)",
   "metadata": {
    "interpreter": {
     "hash": "a22da94b6d0eb1bb9e13ff23c6dec5d5d0682dd7591db237e737d29eb0bbf2ae"
    }
   }
  }
 },
 "nbformat": 4,
 "nbformat_minor": 2,
 "cells": [
  {
   "source": [
    "# CHAPTER 03. 평가\n",
    "\n",
    "- 이진 분류 에서의 평가 지표\n",
    "    - 정확도 보다는 다른 성능 평가 지표가 더 중요시되는 경우가 많다.\n",
    "    - 성능 평가 지표의 종류\n",
    "        - 정확도(Accuracy)\n",
    "        - 오차행렬(Confusion Matrix)\n",
    "        - 정밀도(Precision)\n",
    "        - 재현율(Recall)\n",
    "        - F1 스코어\n",
    "        - ROC AUC\n",
    "        \n",
    "    "
   ],
   "cell_type": "markdown",
   "metadata": {}
  },
  {
   "source": [
    "## 01. 정확도(Accuracy)\n",
    "\n",
    "- 정확도 = 맞게 예측한 수 / 전체 예측 데이터 수\n",
    "- 불균형한 레이블 분포를 가진 데이터 셋에서 예측 값이 한 값으로 고정된 에스티메이터를 사용하면 높은 정확도가 나올 수 있는 점에서 불균형 분포를 가진 데이터셋의 이진분류 에스티메이터의 성능을 평가하는 지표로서 정확도는 적절하지 못함.\n",
    "\n"
   ],
   "cell_type": "markdown",
   "metadata": {}
  },
  {
   "cell_type": "code",
   "execution_count": 17,
   "metadata": {},
   "outputs": [
    {
     "output_type": "error",
     "ename": "NameError",
     "evalue": "name &#39;LabelEncoder&#39; is not defined",
     "traceback": [
      "\u001b[0;31m---------------------------------------------------------------------------\u001b[0m",
      "\u001b[0;31mNameError\u001b[0m                                 Traceback (most recent call last)",
      "\u001b[0;32m&lt;ipython-input-17-698746ee859d&gt;\u001b[0m in \u001b[0;36m&lt;module&gt;\u001b[0;34m\u001b[0m\n\u001b[1;32m     32\u001b[0m \u001b[0mX_titanic_df\u001b[0m \u001b[0;34m=\u001b[0m \u001b[0mtitanic_df\u001b[0m\u001b[0;34m.\u001b[0m\u001b[0mdrop\u001b[0m\u001b[0;34m(\u001b[0m\u001b[0;34m&quot;Survived&quot;\u001b[0m\u001b[0;34m,\u001b[0m \u001b[0maxis\u001b[0m \u001b[0;34m=\u001b[0m \u001b[0;36m1\u001b[0m\u001b[0;34m)\u001b[0m\u001b[0;34m\u001b[0m\u001b[0;34m\u001b[0m\u001b[0m\n\u001b[1;32m     33\u001b[0m \u001b[0;34m\u001b[0m\u001b[0m\n\u001b[0;32m---&gt; 34\u001b[0;31m \u001b[0mX_titanic_df\u001b[0m \u001b[0;34m=\u001b[0m \u001b[0mpreprocessing\u001b[0m\u001b[0;34m(\u001b[0m\u001b[0mX_titanic_df\u001b[0m\u001b[0;34m)\u001b[0m\u001b[0;34m\u001b[0m\u001b[0;34m\u001b[0m\u001b[0m\n\u001b[0m",
      "\u001b[0;32m&lt;ipython-input-17-698746ee859d&gt;\u001b[0m in \u001b[0;36mpreprocessing\u001b[0;34m(df)\u001b[0m\n\u001b[1;32m     25\u001b[0m     \u001b[0mdf\u001b[0m \u001b[0;34m=\u001b[0m \u001b[0mfillna\u001b[0m\u001b[0;34m(\u001b[0m\u001b[0mdf\u001b[0m\u001b[0;34m)\u001b[0m\u001b[0;34m\u001b[0m\u001b[0;34m\u001b[0m\u001b[0m\n\u001b[1;32m     26\u001b[0m     \u001b[0mdf\u001b[0m \u001b[0;34m=\u001b[0m \u001b[0mdrop_features\u001b[0m\u001b[0;34m(\u001b[0m\u001b[0mdf\u001b[0m\u001b[0;34m)\u001b[0m\u001b[0;34m\u001b[0m\u001b[0;34m\u001b[0m\u001b[0m\n\u001b[0;32m---&gt; 27\u001b[0;31m     \u001b[0mdf\u001b[0m \u001b[0;34m=\u001b[0m \u001b[0mformat_features\u001b[0m\u001b[0;34m(\u001b[0m\u001b[0mdf\u001b[0m\u001b[0;34m)\u001b[0m\u001b[0;34m\u001b[0m\u001b[0;34m\u001b[0m\u001b[0m\n\u001b[0m\u001b[1;32m     28\u001b[0m     \u001b[0;32mreturn\u001b[0m \u001b[0mdf\u001b[0m\u001b[0;34m\u001b[0m\u001b[0;34m\u001b[0m\u001b[0m\n\u001b[1;32m     29\u001b[0m \u001b[0;34m\u001b[0m\u001b[0m\n",
      "\u001b[0;32m&lt;ipython-input-17-698746ee859d&gt;\u001b[0m in \u001b[0;36mformat_features\u001b[0;34m(df)\u001b[0m\n\u001b[1;32m     17\u001b[0m     \u001b[0mfeatures\u001b[0m \u001b[0;34m=\u001b[0m \u001b[0;34m[\u001b[0m\u001b[0;34m&quot;Cabin&quot;\u001b[0m\u001b[0;34m,\u001b[0m \u001b[0;34m&quot;Sex&quot;\u001b[0m\u001b[0;34m,\u001b[0m \u001b[0;34m&quot;Embarked&quot;\u001b[0m\u001b[0;34m]\u001b[0m\u001b[0;34m\u001b[0m\u001b[0;34m\u001b[0m\u001b[0m\n\u001b[1;32m     18\u001b[0m     \u001b[0;32mfor\u001b[0m \u001b[0mf\u001b[0m \u001b[0;32min\u001b[0m \u001b[0mfeatures\u001b[0m\u001b[0;34m:\u001b[0m\u001b[0;34m\u001b[0m\u001b[0;34m\u001b[0m\u001b[0m\n\u001b[0;32m---&gt; 19\u001b[0;31m         \u001b[0mencoder\u001b[0m \u001b[0;34m=\u001b[0m \u001b[0mLabelEncoder\u001b[0m\u001b[0;34m(\u001b[0m\u001b[0;34m)\u001b[0m\u001b[0;34m\u001b[0m\u001b[0;34m\u001b[0m\u001b[0m\n\u001b[0m\u001b[1;32m     20\u001b[0m         \u001b[0mencoder\u001b[0m \u001b[0;34m=\u001b[0m \u001b[0mencoder\u001b[0m\u001b[0;34m.\u001b[0m\u001b[0mfit\u001b[0m\u001b[0;34m(\u001b[0m\u001b[0mdf\u001b[0m\u001b[0;34m[\u001b[0m\u001b[0mf\u001b[0m\u001b[0;34m]\u001b[0m\u001b[0;34m)\u001b[0m\u001b[0;34m\u001b[0m\u001b[0;34m\u001b[0m\u001b[0m\n\u001b[1;32m     21\u001b[0m         \u001b[0mdf\u001b[0m\u001b[0;34m[\u001b[0m\u001b[0mf\u001b[0m\u001b[0;34m]\u001b[0m \u001b[0;34m=\u001b[0m \u001b[0mencoder\u001b[0m\u001b[0;34m.\u001b[0m\u001b[0mtransform\u001b[0m\u001b[0;34m(\u001b[0m\u001b[0mdf\u001b[0m\u001b[0;34m[\u001b[0m\u001b[0mf\u001b[0m\u001b[0;34m]\u001b[0m\u001b[0;34m)\u001b[0m\u001b[0;34m\u001b[0m\u001b[0;34m\u001b[0m\u001b[0m\n",
      "\u001b[0;31mNameError\u001b[0m: name &#39;LabelEncoder&#39; is not defined"
     ]
    }
   ],
   "source": [
    "\n",
    "from sklearn.ensemble import RandomForestClassifier\n",
    "from sklearn.linear_model import LogisticRegression\n",
    "\n",
    "def fillna(df):\n",
    "    df[\"Age\"].fillna(df[\"Age\"].mean(), inplace=True)\n",
    "    df[\"Cabin\"].fillna(\"N\", inplace=True)\n",
    "    df[\"Embarked\"].fillna(\"N\", inplace=True)\n",
    "    df[\"Fare\"].fillna(0, inplace=True)\n",
    "    return df\n",
    "\n",
    "def drop_features(df):\n",
    "    df.drop([\"PassengerId\", \"Name\", \"Ticket\"], axis = 1, inplace = True)\n",
    "    return df\n",
    "\n",
    "def format_features(df):\n",
    "    df[\"Cabin\"] = df[\"Cabin\"].str[:1]\n",
    "    features = [\"Cabin\", \"Sex\", \"Embarked\"]\n",
    "    for f in features:\n",
    "        encoder = LabelEncoder()\n",
    "        encoder = encoder.fit(df[f])\n",
    "        df[f] = encoder.transform(df[f])\n",
    "    return df\n",
    "\n",
    "def preprocessing(df):\n",
    "    df = fillna(df)\n",
    "    df = drop_features(df)\n",
    "    df = format_features(df)\n",
    "    return df\n",
    "\n",
    "titanic_df = pd.read_csv(\"../data/titanic_train.csv\")\n",
    "Y_titanic_df = titanic_df[\"Survived\"]\n",
    "X_titanic_df = titanic_df.drop(\"Survived\", axis = 1)\n",
    "\n",
    "X_titanic_df = preprocessing(X_titanic_df)"
   ]
  },
  {
   "source": [
    "## 02. 오차 행렬\n",
    "\n",
    "<pre>\n",
    "[[TN, FP]\n",
    " [FN, TP]]\n",
    "</pre>\n",
    "\n",
    "- True : 맞춤, False: 틀림, Positive: 1 예상, Negative: 0 예상\n",
    "- 정확도 = TN + TP / TN + FP + FN + TP (맞춘거 / 전체)\n",
    "\n"
   ],
   "cell_type": "markdown",
   "metadata": {}
  },
  {
   "source": [
    "## 03. 정밀도와 재현율\n",
    "\n",
    "- 정밀도(Precision) = TP / FP + TP \n",
    "    - Positive 라고 예상한 경우에서 실제 Positive 였던 경우\n",
    "    - FN 가 낮은 정도\n",
    "    - FN 이 치명적일 경우 높을 수록 좋음 ex. P: 암 양성, FN: 암환자 음성으로 판단\n",
    "- 재현율(Recall) = TP / FN + TP \n",
    "    - 실제 Positive 인 경우 중 Positive 라고 예상한 경우의 수\n",
    "    - FP 가 낮은 정도\n",
    "    - FP 가 치명적일 경우 높을 수록 좋음 ex. P: 스팸메일임, FP 하면 일반메일 못읽음) \n",
    "- 정밀도와 재현율 모두 1 에 가까울 수록 좋지만, FN, FP 중 치명적인 경우에 따라 평가 지표의 중요성이 달라짐.\n"
   ],
   "cell_type": "markdown",
   "metadata": {}
  },
  {
   "source": [
    "### 정밀도/재현율 트레이드오프\n",
    "\n",
    "- 정밀도 재현율 서로 상호보완적인 관계라 하나 높이면 하나 떨어짐\n",
    "- threshold 값을 정하여 positive 예측 확률을 높일 수 있음\n",
    "- precision_recall_curve() : threshold 값에 따른 재현율, 정밀도를 파악할 수 있어서 적절한 threshold 를 찾을 수 있음\n"
   ],
   "cell_type": "markdown",
   "metadata": {}
  },
  {
   "source": [
    "### 정밀도와 재현율의 맹점\n",
    "\n",
    "- 확실한 기준일 때만 positive 예측 -> 정밀도 100%\n",
    "- 모두 positive 로 예측 -> 재현율 100%\n",
    "- 하나만 높이려기 보다는 둘다 적절히 높은게 좋다.\n"
   ],
   "cell_type": "markdown",
   "metadata": {}
  },
  {
   "source": [
    "## 04. F1 스코어\n",
    "\n",
    "- 정밀도, 재현율 중 한 쪽으로 치우치지 않을 때 높음\n",
    "\n"
   ],
   "cell_type": "markdown",
   "metadata": {}
  },
  {
   "source": [
    "### ROC 곡선과 AUC\n",
    "\n",
    "- Receiver Operation Characteristic Curve\n",
    "- 민감도(True Positive Rate) \n"
   ],
   "cell_type": "markdown",
   "metadata": {}
  }
 ]
}